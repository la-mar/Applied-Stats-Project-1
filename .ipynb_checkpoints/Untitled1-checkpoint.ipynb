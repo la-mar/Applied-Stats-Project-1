{
 "cells": [
  {
   "cell_type": "code",
   "execution_count": 1,
   "metadata": {},
   "outputs": [
    {
     "data": {
      "application/json": {
       "cell": {
        "!": "OSMagics",
        "HTML": "Other",
        "IML": "SASMagic",
        "OPTMODEL": "SASMagic",
        "SAS": "SASMagic",
        "SVG": "Other",
        "bash": "Other",
        "capture": "ExecutionMagics",
        "cmd": "Other",
        "debug": "ExecutionMagics",
        "file": "Other",
        "html": "DisplayMagics",
        "javascript": "DisplayMagics",
        "js": "DisplayMagics",
        "latex": "DisplayMagics",
        "markdown": "DisplayMagics",
        "perl": "Other",
        "prun": "ExecutionMagics",
        "pypy": "Other",
        "python": "Other",
        "python2": "Other",
        "python3": "Other",
        "ruby": "Other",
        "script": "ScriptMagics",
        "sh": "Other",
        "svg": "DisplayMagics",
        "sx": "OSMagics",
        "system": "OSMagics",
        "time": "ExecutionMagics",
        "timeit": "ExecutionMagics",
        "writefile": "OSMagics"
       },
       "line": {
        "alias": "OSMagics",
        "alias_magic": "BasicMagics",
        "autocall": "AutoMagics",
        "automagic": "AutoMagics",
        "autosave": "KernelMagics",
        "bookmark": "OSMagics",
        "cd": "OSMagics",
        "clear": "KernelMagics",
        "cls": "KernelMagics",
        "colors": "BasicMagics",
        "config": "ConfigMagics",
        "connect_info": "KernelMagics",
        "copy": "Other",
        "ddir": "Other",
        "debug": "ExecutionMagics",
        "dhist": "OSMagics",
        "dirs": "OSMagics",
        "doctest_mode": "BasicMagics",
        "echo": "Other",
        "ed": "Other",
        "edit": "KernelMagics",
        "env": "OSMagics",
        "gui": "BasicMagics",
        "hist": "Other",
        "history": "HistoryMagics",
        "killbgscripts": "ScriptMagics",
        "ldir": "Other",
        "less": "KernelMagics",
        "load": "CodeMagics",
        "load_ext": "ExtensionMagics",
        "loadpy": "CodeMagics",
        "logoff": "LoggingMagics",
        "logon": "LoggingMagics",
        "logstart": "LoggingMagics",
        "logstate": "LoggingMagics",
        "logstop": "LoggingMagics",
        "ls": "Other",
        "lsmagic": "BasicMagics",
        "macro": "ExecutionMagics",
        "magic": "BasicMagics",
        "matplotlib": "PylabMagics",
        "mkdir": "Other",
        "more": "KernelMagics",
        "notebook": "BasicMagics",
        "page": "BasicMagics",
        "pastebin": "CodeMagics",
        "pdb": "ExecutionMagics",
        "pdef": "NamespaceMagics",
        "pdoc": "NamespaceMagics",
        "pfile": "NamespaceMagics",
        "pinfo": "NamespaceMagics",
        "pinfo2": "NamespaceMagics",
        "pip": "BasicMagics",
        "popd": "OSMagics",
        "pprint": "BasicMagics",
        "precision": "BasicMagics",
        "profile": "BasicMagics",
        "prun": "ExecutionMagics",
        "psearch": "NamespaceMagics",
        "psource": "NamespaceMagics",
        "pushd": "OSMagics",
        "pwd": "OSMagics",
        "pycat": "OSMagics",
        "pylab": "PylabMagics",
        "qtconsole": "KernelMagics",
        "quickref": "BasicMagics",
        "recall": "HistoryMagics",
        "rehashx": "OSMagics",
        "reload_ext": "ExtensionMagics",
        "ren": "Other",
        "rep": "Other",
        "rerun": "HistoryMagics",
        "reset": "NamespaceMagics",
        "reset_selective": "NamespaceMagics",
        "rmdir": "Other",
        "run": "ExecutionMagics",
        "save": "CodeMagics",
        "sc": "OSMagics",
        "set_env": "OSMagics",
        "store": "StoreMagics",
        "sx": "OSMagics",
        "system": "OSMagics",
        "tb": "ExecutionMagics",
        "time": "ExecutionMagics",
        "timeit": "ExecutionMagics",
        "unalias": "OSMagics",
        "unload_ext": "ExtensionMagics",
        "who": "NamespaceMagics",
        "who_ls": "NamespaceMagics",
        "whos": "NamespaceMagics",
        "xdel": "NamespaceMagics",
        "xmode": "BasicMagics"
       }
      },
      "text/plain": [
       "Available line magics:\n",
       "%alias  %alias_magic  %autocall  %automagic  %autosave  %bookmark  %cd  %clear  %cls  %colors  %config  %connect_info  %copy  %ddir  %debug  %dhist  %dirs  %doctest_mode  %echo  %ed  %edit  %env  %gui  %hist  %history  %killbgscripts  %ldir  %less  %load  %load_ext  %loadpy  %logoff  %logon  %logstart  %logstate  %logstop  %ls  %lsmagic  %macro  %magic  %matplotlib  %mkdir  %more  %notebook  %page  %pastebin  %pdb  %pdef  %pdoc  %pfile  %pinfo  %pinfo2  %popd  %pprint  %precision  %profile  %prun  %psearch  %psource  %pushd  %pwd  %pycat  %pylab  %qtconsole  %quickref  %recall  %rehashx  %reload_ext  %ren  %rep  %rerun  %reset  %reset_selective  %rmdir  %run  %save  %sc  %set_env  %store  %sx  %system  %tb  %time  %timeit  %unalias  %unload_ext  %who  %who_ls  %whos  %xdel  %xmode\n",
       "\n",
       "Available cell magics:\n",
       "%%!  %%HTML  %%IML  %%OPTMODEL  %%SAS  %%SVG  %%bash  %%capture  %%cmd  %%debug  %%file  %%html  %%javascript  %%js  %%latex  %%markdown  %%perl  %%prun  %%pypy  %%python  %%python2  %%python3  %%ruby  %%script  %%sh  %%svg  %%sx  %%system  %%time  %%timeit  %%writefile\n",
       "\n",
       "Automagic is ON, % prefix IS NOT needed for line magics."
      ]
     },
     "execution_count": 1,
     "metadata": {},
     "output_type": "execute_result"
    }
   ],
   "source": [
    "%load_ext saspy.sas_magic\n",
    "\n",
    "#%%js\n",
    "%lsmagic\n"
   ]
  },
  {
   "cell_type": "code",
   "execution_count": 3,
   "metadata": {},
   "outputs": [
    {
     "name": "stdout",
     "output_type": "stream",
     "text": [
      "The SAS Config name specified was not found. Please enter the SAS Config you wish to use. Available Configs are: ['winlocal'] winlocal\n",
      "Java Error:\n",
      "log4j:WARN No appenders could be found for logger (com.sas.services.connection).\n",
      "log4j:WARN Please initialize the log4j system properly.\n",
      "com.sas.services.connection.FatalConnectionFactoryException: The application could not log on to the server. The server process terminated unexpectedly with exit value 115.\n",
      "\tat com.sas.services.connection.ClusterEnvelope.getConnection(ClusterEnvelope.java:240)\n",
      "\tat com.sas.services.connection.AggregationKernel.doGetConnection(AggregationKernel.java:242)\n",
      "\tat com.sas.services.connection.ConnectionFactoryKernel.getConnection(ConnectionFactoryKernel.java:325)\n",
      "\tat com.sas.services.connection.ConnectionFactoryShell.getConnection(ConnectionFactoryShell.java:69)\n",
      "\tat com.sas.services.connection.ConnectionFactoryShell.getConnection(ConnectionFactoryShell.java:51)\n",
      "\tat pyiom.saspy2j.main(saspy2j.java:187)\n",
      "Caused by: org.omg.CORBA.BAD_PARAM: The application could not log on to the server. The server process terminated unexpectedly with exit value 115.  vmcid: 0x0  minor code: 0  completed: No\n",
      "\tat com.sas.iom.orb.brg.Engine$4.run(Engine.java:3444)\n",
      "\tat java.lang.Thread.run(Thread.java:745)\n",
      "\n",
      "We failed in getConnection\n",
      "The application could not log on to the server. The server process terminated unexpectedly with exit value 115.\n",
      "Subprocess failed to start. Double check you settings in sascfg.py file.\n",
      "\n",
      "Attempted to run program C:\\Program Files\\SASHome\\SASPrivateJavaRuntimeEnvironment\\9.4\\jre\\bin\\java.exe with the following parameters:['C:\\\\Program Files\\\\SASHome\\\\SASPrivateJavaRuntimeEnvironment\\\\9.4\\\\jre\\\\bin\\\\java.exe', '-classpath', 'C:\\\\Program Files\\\\SASHome\\\\SASDeploymentManager\\\\9.4\\\\products\\\\deploywiz__94340__prt__xx__sp0__1\\\\deploywiz\\\\sas.svc.connection.jar;C:\\\\Program Files\\\\SASHome\\\\SASDeploymentManager\\\\9.4\\\\products\\\\deploywiz__94340__prt__xx__sp0__1\\\\deploywiz\\\\log4j.jar;C:\\\\Program Files\\\\SASHome\\\\SASDeploymentManager\\\\9.4\\\\products\\\\deploywiz__94340__prt__xx__sp0__1\\\\deploywiz\\\\sas.security.sspi.jar;C:\\\\Program Files\\\\SASHome\\\\SASDeploymentManager\\\\9.4\\\\products\\\\deploywiz__94340__prt__xx__sp0__1\\\\deploywiz\\\\sas.core.jar;C:\\\\Program Files\\\\Python37\\\\Lib\\\\site-packages\\\\saspy\\\\java\\\\saspyiom.jar', 'pyiom.saspy2j', '-host', 'localhost', '-stdinport', '63701', '-stdoutport', '63702', '-stderrport', '63703', '-zero', '-lrecl', '1048576', '']\n",
      "\n",
      "If no Java Error above, try running the following command (where saspy is running) manually to see if it's a problem starting Java:\n",
      "C:\\Program Files\\SASHome\\SASPrivateJavaRuntimeEnvironment\\9.4\\jre\\bin\\java.exe -classpath \"C:\\Program Files\\SASHome\\SASDeploymentManager\\9.4\\products\\deploywiz__94340__prt__xx__sp0__1\\deploywiz\\sas.svc.connection.jar;C:\\Program Files\\SASHome\\SASDeploymentManager\\9.4\\products\\deploywiz__94340__prt__xx__sp0__1\\deploywiz\\log4j.jar;C:\\Program Files\\SASHome\\SASDeploymentManager\\9.4\\products\\deploywiz__94340__prt__xx__sp0__1\\deploywiz\\sas.security.sspi.jar;C:\\Program Files\\SASHome\\SASDeploymentManager\\9.4\\products\\deploywiz__94340__prt__xx__sp0__1\\deploywiz\\sas.core.jar;C:\\Program Files\\Python37\\Lib\\site-packages\\saspy\\java\\saspyiom.jar\" pyiom.saspy2j -host localhost -stdinport 63701 -stdoutport 63702 -stderrport 63703 -zero -lrecl 1048576  \n",
      "\n",
      "No SAS process attached. SAS process has terminated unexpectedly.\n",
      "No SAS process attached. SAS process has terminated unexpectedly.\n",
      "No SAS process attached. SAS process has terminated unexpectedly.\n"
     ]
    }
   ],
   "source": [
    "import saspy\n",
    "\n",
    "sas = saspy.SASsession(\n",
    "    cfgname='default')"
   ]
  },
  {
   "cell_type": "code",
   "execution_count": 6,
   "metadata": {},
   "outputs": [
    {
     "name": "stdout",
     "output_type": "stream",
     "text": [
      "No SAS process attached. SAS process has terminated unexpectedly.\n"
     ]
    }
   ],
   "source": [
    "c = sas.submit(\"\"\"\n",
    "proc power;\n",
    "     onesamplefreq\n",
    "         /* pdiff = .15\n",
    "         refp = .6 */\n",
    "         /* gps = (.6, .75) */\n",
    "         method = normal\n",
    "         test = z\n",
    "         nullp = .6\n",
    "         p = .75\n",
    "         alpha = .05\n",
    "         power = 0.8\n",
    "         sides = 1\n",
    "         ntotal = .;\n",
    "   run;\n",
    "\"\"\")\n"
   ]
  },
  {
   "cell_type": "code",
   "execution_count": 11,
   "metadata": {},
   "outputs": [
    {
     "data": {
      "text/plain": [
       "<bound method SASsession.disconnect of Access Method         = IOM\n",
       "SAS Config name       = winlocal\n",
       "WORK Path             = /\n",
       "SAS Version           = No SAS process attached. SAS process has terminated unexpectedly.\n",
       "SASPy Version         = 2.2.7\n",
       "Teach me SAS          = False\n",
       "Batch                 = False\n",
       "Results               = Pandas\n",
       "SAS Session Encoding  = No\n",
       "Python Encoding value = windows-1252\n",
       ">"
      ]
     },
     "execution_count": 11,
     "metadata": {},
     "output_type": "execute_result"
    }
   ],
   "source": [
    "my_session.disconnect"
   ]
  },
  {
   "cell_type": "code",
   "execution_count": null,
   "metadata": {},
   "outputs": [],
   "source": []
  },
  {
   "cell_type": "code",
   "execution_count": null,
   "metadata": {},
   "outputs": [],
   "source": []
  },
  {
   "cell_type": "code",
   "execution_count": null,
   "metadata": {},
   "outputs": [],
   "source": []
  },
  {
   "cell_type": "code",
   "execution_count": null,
   "metadata": {},
   "outputs": [],
   "source": []
  },
  {
   "cell_type": "code",
   "execution_count": null,
   "metadata": {},
   "outputs": [],
   "source": []
  },
  {
   "cell_type": "code",
   "execution_count": null,
   "metadata": {},
   "outputs": [],
   "source": []
  }
 ],
 "metadata": {
  "hide_input": false,
  "kernelspec": {
   "display_name": "Python 3",
   "language": "python",
   "name": "python3"
  },
  "language_info": {
   "codemirror_mode": {
    "name": "ipython",
    "version": 3
   },
   "file_extension": ".py",
   "mimetype": "text/x-python",
   "name": "python",
   "nbconvert_exporter": "python",
   "pygments_lexer": "ipython3",
   "version": "3.7.0"
  },
  "latex_envs": {
   "LaTeX_envs_menu_present": true,
   "autoclose": false,
   "autocomplete": true,
   "bibliofile": "biblio.bib",
   "cite_by": "apalike",
   "current_citInitial": 1,
   "eqLabelWithNumbers": true,
   "eqNumInitial": 1,
   "hotkeys": {
    "equation": "Ctrl-E",
    "itemize": "Ctrl-I"
   },
   "labels_anchors": false,
   "latex_user_defs": false,
   "report_style_numbering": false,
   "user_envs_cfg": false
  },
  "varInspector": {
   "cols": {
    "lenName": 16,
    "lenType": 16,
    "lenVar": 40
   },
   "kernels_config": {
    "python": {
     "delete_cmd_postfix": "",
     "delete_cmd_prefix": "del ",
     "library": "var_list.py",
     "varRefreshCmd": "print(var_dic_list())"
    },
    "r": {
     "delete_cmd_postfix": ") ",
     "delete_cmd_prefix": "rm(",
     "library": "var_list.r",
     "varRefreshCmd": "cat(var_dic_list()) "
    }
   },
   "types_to_exclude": [
    "module",
    "function",
    "builtin_function_or_method",
    "instance",
    "_Feature"
   ],
   "window_display": false
  }
 },
 "nbformat": 4,
 "nbformat_minor": 2
}
